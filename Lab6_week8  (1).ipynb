{
 "cells": [
  {
   "cell_type": "markdown",
   "metadata": {},
   "source": [
    "<div class=\"alert alert-block alert-info\" style=\"margin-top: 20px\">\n",
    "    <h1 align=center>Data 1202: Data Analytics Tools</h1>\n",
    "    <h1 align=center>Lab 6</h1>\n",
    "</div>\n"
   ]
  },
  {
   "cell_type": "markdown",
   "metadata": {},
   "source": [
    "<h1>Introduction</h1>\n",
    "<h3>Welcome!</h3>\n",
    "    <ul>\n",
    "<p>The Objectives of this lab are:</p>\n",
    "<li> Learn the use of iloc for subsetting a datastet. \n",
    "<li> Learn how to create functions in pythons.\n",
    "    </ul>"
   ]
  },
  {
   "cell_type": "markdown",
   "metadata": {},
   "source": [
    "<h2>Table of Contents</h2>\n",
    "\n",
    "<div class=\"alert alert-block alert-info\" style=\"margin-top: 20px\">\n",
    "<ol>\n",
    "     <li><a href=\"#correct data format\">Subseting using iLOC</a></li>\n",
    "    <li><a href=\"#data_standardization\">Functions</a></li>\n",
    "</ol>\n",
    "\n",
    "</div>\n"
   ]
  },
  {
   "cell_type": "code",
   "execution_count": null,
   "metadata": {},
   "outputs": [],
   "source": [
    "#Import Python Libraries\n",
    "import numpy as np\n",
    "import pandas as pd"
   ]
  },
  {
   "cell_type": "markdown",
   "metadata": {},
   "source": [
    "\n",
    "<div class=\"alert alert-block alert-info\" style=\"margin-top: 20px\">\n",
    "<h1 align=center>Part 1 : iLOC</h1>\n",
    "</div>"
   ]
  },
  {
   "cell_type": "code",
   "execution_count": null,
   "metadata": {},
   "outputs": [],
   "source": [
    "df_raw = pd.read_csv('vgsales.csv')\n",
    "\n",
    "df_filtered = raw_vg_sales.iloc[:1000,:]"
   ]
  },
  {
   "cell_type": "code",
   "execution_count": null,
   "metadata": {},
   "outputs": [],
   "source": [
    "# To see what the data set looks like, we'll use the head() method.\n",
    "df_filtered.head()"
   ]
  },
  {
   "cell_type": "markdown",
   "metadata": {},
   "source": [
    "\n",
    "<div class=\"alert alert-block alert-info\" style=\"margin-top: 20px\">\n",
    "<h1 align=center>Part 2 : Functions </h1>\n",
    "</div>"
   ]
  },
  {
   "cell_type": "code",
   "execution_count": null,
   "metadata": {},
   "outputs": [],
   "source": [
    "def pizza_welcome1(customer):\n",
    "\t# Welcome customers to Pizza shop\"\n",
    "\tprint('Welcome to Pizza shop '+customer.title())\n",
    "pizza_welcome1('Nur')\t\n",
    "pizza_welcome1('Jacklyn')\n",
    "pizza_welcome1('Mazz')\n",
    "\n",
    "\n",
    "#Function takes a list and uses a loop to print\n",
    "def waiting(names):\n",
    "    \"\"\" Sends a message to all waiting customers \"\"\"\n",
    "\n",
    "    for name in names:\n",
    "        print(\"Your pizza is almost ready\",name.title())\n",
    "\n",
    "customers = ['poorna','sid','surhabi','halima','mo','tunji']\n",
    "\n",
    "waiting(customers)\n",
    "\n",
    "\n"
   ]
  },
  {
   "cell_type": "code",
   "execution_count": null,
   "metadata": {},
   "outputs": [],
   "source": [
    "# Build a function\n",
    "def subset_data(df, row_select, col_select):\n",
    "  # DOCSTRING\n",
    "  \"\"\"\n",
    "  This function is used to dynamically slice data from \n",
    "  a users dataframe. \n",
    "\n",
    "  row_select: this represents the rows the user wants\n",
    "  col_select: this is the columns\n",
    "  \"\"\"\n",
    "  # Magic happens\n",
    "  subset = df.iloc[row_select, col_select]\n",
    "  \n",
    "  # return this value\n",
    "  return subset"
   ]
  },
  {
   "cell_type": "code",
   "execution_count": null,
   "metadata": {},
   "outputs": [],
   "source": [
    "first_row = subset_data(raw_vg_sales, 0, [0,1,2,3])\n",
    "tenth_row = subset_data(raw_vg_sales, 10, [0, 1, 2, 3])\n",
    "\n",
    "for row in range(0, len(first_thousand)):\n",
    "  print(subset_data(first_thousand, row, [0, 1, 2]))"
   ]
  },
  {
   "cell_type": "markdown",
   "metadata": {},
   "source": [
    "<div class=\"alert alert-danger alertdanger\" style=\"margin-top: 20px\">\n",
    "<h1>Question #1:</h1>\n",
    "<b>How many views did the top 10 videos get? </b>\n",
    "</div>"
   ]
  },
  {
   "cell_type": "markdown",
   "metadata": {},
   "source": [
    "<div class=\"alert alert-danger alertdanger\" style=\"margin-top: 20px\">\n",
    "<h1>Question #2:</h1>\n",
    "<b>If you were selecting a video to run your ads on, what metric would you use to make the best decision?</b>\n",
    "</div>"
   ]
  }
 ],
 "metadata": {
  "kernelspec": {
   "display_name": "Python 3 (ipykernel)",
   "language": "python",
   "name": "python3"
  },
  "language_info": {
   "codemirror_mode": {
    "name": "ipython",
    "version": 3
   },
   "file_extension": ".py",
   "mimetype": "text/x-python",
   "name": "python",
   "nbconvert_exporter": "python",
   "pygments_lexer": "ipython3",
   "version": "3.9.7"
  }
 },
 "nbformat": 4,
 "nbformat_minor": 2
}
